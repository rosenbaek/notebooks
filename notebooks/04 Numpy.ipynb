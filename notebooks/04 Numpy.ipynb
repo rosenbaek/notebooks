{
 "cells": [
  {
   "cell_type": "markdown",
   "metadata": {},
   "source": [
    "# numpy (nummerical python)\n",
    "### Data structure to hold multy dimensional homogenneous nd-array\n",
    "Commonly but not necessarily it would be numeric values"
   ]
  },
  {
   "cell_type": "markdown",
   "metadata": {},
   "source": [
    "## TOC\n",
    "- numpy arrays\n",
    "  - np.array()\n",
    "  - np.arange(1,10,2) # like range(1,10,2)\n",
    "  - np.linspace(start, end, num_of_el)\n",
    "  - indexing and slicing\n",
    "- multidimensional arrays\n",
    "  - np.array().shape attribute\n",
    "  - np.array().reshape(array1_len, array2_len)\n",
    "- masking\n",
    "\n",
    "  "
   ]
  },
  {
   "cell_type": "code",
   "execution_count": 1,
   "metadata": {},
   "outputs": [],
   "source": [
    "# the following line is jupyter notebook specific \n",
    "%matplotlib inline"
   ]
  },
  {
   "cell_type": "markdown",
   "metadata": {},
   "source": [
    "## Why we need numpy\n",
    "Most computational packages providing scientific functionality use NumPy’s array objects as the lingua franca for data exchange.\n",
    "- NumPy arrays use much less memory than built-in Python sequences\n",
    "- NumPy operations perform complex computations on entire arrays without the need for Python for loops.\n",
    "- "
   ]
  },
  {
   "cell_type": "markdown",
   "metadata": {},
   "source": [
    "The following introduction to NumPy is based on the following article:\n",
    "    http://www.datadependence.com/2016/05/scientific-python-numpy/\n",
    "    \n",
    "For futher details refer to the official quickstart documentation:\n",
    "https://docs.scipy.org/doc/numpy-dev/user/quickstart.html\n",
    "\n",
    "# Initialization of NumPy Arrays (ndArray or tensor)\n",
    "\n",
    "You can initialize a one-dimensional NumPy array, for example, by passing a list or a tuple to `np.array`. Or you can even make a zero dimensional array by passing a scalar value."
   ]
  },
  {
   "cell_type": "code",
   "execution_count": 2,
   "metadata": {},
   "outputs": [
    {
     "name": "stdout",
     "output_type": "stream",
     "text": [
      "tensor axis (or dimensions) of the 3 ndArrays are:\n",
      " a shape: () a dimension: 0,\n",
      " b shape: (2,) b dimension: 1,\n",
      " c shape: (2, 2) c dimension: 2,\n"
     ]
    }
   ],
   "source": [
    "import numpy as np\n",
    "a = np.array(4)\n",
    "b = np.array([3,4])\n",
    "c = np.array([[3,4],[5,6]])\n",
    "print(f'tensor axis (or dimensions) of the 3 ndArrays are:\\n a shape: {a.shape} a dimension: {a.ndim},\\n b shape: {b.shape} b dimension: {b.ndim},\\n c shape: {c.shape} c dimension: {c.ndim},')"
   ]
  },
  {
   "cell_type": "code",
   "execution_count": 3,
   "metadata": {},
   "outputs": [
    {
     "name": "stdout",
     "output_type": "stream",
     "text": [
      "[0 1 2 3 4]\n",
      "[0, 1, 2, 3, 4]\n"
     ]
    }
   ],
   "source": [
    "import numpy as np\n",
    "\n",
    "\n",
    "a = np.array([0, 1, 2, 3, 4])\n",
    "b = np.array((0, 1, 2, 3, 4))\n",
    "\n",
    "print(a)\n",
    "print(list(b))"
   ]
  },
  {
   "cell_type": "markdown",
   "metadata": {},
   "source": [
    "Alternatively, you can create a one-dimensional NumPy array with the `np.arange` function, which is similar to its counterpart `range` in the standard library. Read it's documentation with `np.arange?`."
   ]
  },
  {
   "cell_type": "markdown",
   "metadata": {},
   "source": [
    "c = np.arange(9, 30, 3)\n",
    "d = list(range(9, 30, 3))\n",
    "print(c)\n",
    "print(list(c))\n",
    "print(d)"
   ]
  },
  {
   "cell_type": "markdown",
   "metadata": {},
   "source": [
    "Similar to `np.arange`, `np.linspace` creates an array of evenly spaced numbers over a specified interval."
   ]
  },
  {
   "cell_type": "code",
   "execution_count": 4,
   "metadata": {},
   "outputs": [
    {
     "name": "stdout",
     "output_type": "stream",
     "text": [
      "[0.         1.57079633 3.14159265 4.71238898 6.28318531]\n"
     ]
    }
   ],
   "source": [
    "# linspace\n",
    "pi_steps = np.linspace(0, 2 * np.pi, 5) # args: start, end, number of elements to produce. returns array of number of elements evenly spaced between start and end.\n",
    "print(pi_steps)"
   ]
  },
  {
   "cell_type": "code",
   "execution_count": 5,
   "metadata": {},
   "outputs": [
    {
     "name": "stdout",
     "output_type": "stream",
     "text": [
      "invalid literal for int() with base 10: 'hello'\n"
     ]
    }
   ],
   "source": [
    "np.array([1,2.2,\"hello\"]) # ok but will get data type: Unicode (U32)\n",
    "try:\n",
    "    np.array([1,2.2,\"hello\"],dtype=np.int32)\n",
    "except ValueError as e:\n",
    "    print(e)"
   ]
  },
  {
   "cell_type": "markdown",
   "metadata": {},
   "source": [
    "## Indexing Elements"
   ]
  },
  {
   "cell_type": "code",
   "execution_count": 6,
   "metadata": {},
   "outputs": [
    {
     "name": "stdout",
     "output_type": "stream",
     "text": [
      "[[3 4]\n",
      " [5 6]]\n",
      "[3 4]\n",
      "[5 6]\n",
      "[]\n",
      "[]\n"
     ]
    }
   ],
   "source": [
    "print(c)\n",
    "print(c[0])  # Get element at index position 0\n",
    "print(c[1])  # Get element at index position 1\n",
    "print(c[2:6])  # Get subarray from index pos. 2 to excluding index pos. 6\n",
    "print(c[1:-1:2])  # Get every second element from subarray (omitting first and last)"
   ]
  },
  {
   "cell_type": "markdown",
   "metadata": {},
   "source": [
    "# Multi-Dimensional Arrays\n",
    "\n",
    "You can initialize multi-dimensional arrays either explicitely as in the following."
   ]
  },
  {
   "cell_type": "code",
   "execution_count": 7,
   "metadata": {},
   "outputs": [
    {
     "name": "stdout",
     "output_type": "stream",
     "text": [
      "(3, 4)\n",
      "(3, 3, 4)\n",
      "aggregation over axis 0: [12 15 18 21]. Each column\n",
      "aggregation over axis 1: [ 6 22 38]. Each row\n"
     ]
    }
   ],
   "source": [
    "two_dim = np.array([[ 0,  1,  2,  3],\n",
    "                    [ 4,  5,  6,  7],\n",
    "                    [ 8,  9, 10, 11]])\n",
    "\n",
    "three_dim = np.array([[[ 0,  1,  2,  3],\n",
    "                       [ 4,  5,  6,  7],\n",
    "                       [ 8,  9, 10, 11]],\n",
    "\n",
    "                      [[12, 13, 14, 15],\n",
    "                       [16, 17, 18, 19],\n",
    "                       [20, 21, 22, 23]],\n",
    "\n",
    "                      [[24, 25, 26, 27],\n",
    "                       [28, 29, 30, 31],\n",
    "                       [32, 33, 34, 35]]])\n",
    "print(two_dim.shape)\n",
    "print(three_dim.shape)\n",
    "print(f'aggregation over axis 0: {two_dim.sum(axis=0)}. Each column')\n",
    "print(f'aggregation over axis 1: {two_dim.sum(axis=1)}. Each row')"
   ]
  },
  {
   "cell_type": "markdown",
   "metadata": {},
   "source": [
    "Or you create a one-dimensional array, which you `reshape` into the desired form."
   ]
  },
  {
   "cell_type": "markdown",
   "metadata": {},
   "source": [
    "### Matrix\n",
    "coordinate system with (y,x) = (0,0) in upper left corner  \n",
    "y = rows  \n",
    "x = columns  "
   ]
  },
  {
   "cell_type": "code",
   "execution_count": 8,
   "metadata": {},
   "outputs": [
    {
     "data": {
      "text/plain": [
       "array([[11, 12, 13, 14, 15],\n",
       "       [16, 17, 18, 19, 20],\n",
       "       [21, 22, 23, 24, 25],\n",
       "       [26, 27, 28, 29, 30],\n",
       "       [31, 32, 33, 34, 35]])"
      ]
     },
     "execution_count": 8,
     "metadata": {},
     "output_type": "execute_result"
    }
   ],
   "source": [
    "a = np.arange(11, 36)\n",
    "b = a.reshape(5, 5)\n",
    "b"
   ]
  },
  {
   "cell_type": "code",
   "execution_count": 9,
   "metadata": {},
   "outputs": [
    {
     "name": "stdout",
     "output_type": "stream",
     "text": [
      "[[11 12 13 14 15]\n",
      " [16 17 18 19 20]\n",
      " [21 22 23 24 25]\n",
      " [26 27 28 29 30]\n",
      " [31 32 33 34 35]]\n",
      "13\n",
      "(5, 5)\n"
     ]
    },
    {
     "data": {
      "text/plain": [
       "array([[ 0,  1,  2,  3],\n",
       "       [ 4,  5,  6,  7],\n",
       "       [ 8,  9, 10, 11]])"
      ]
     },
     "execution_count": 9,
     "metadata": {},
     "output_type": "execute_result"
    }
   ],
   "source": [
    "a = np.arange(11, 36).reshape(5, 5)\n",
    "\n",
    "print(a)\n",
    "print(a[0, 2]) # print the 3 value of the first subarray\n",
    "print(a.shape)\n",
    "np.arange(12).reshape(3, 4)\n"
   ]
  },
  {
   "cell_type": "code",
   "execution_count": 10,
   "metadata": {},
   "outputs": [
    {
     "data": {
      "text/plain": [
       "array([[0, 1, 2, 3, 4],\n",
       "       [5, 6, 7, 8, 9]])"
      ]
     },
     "execution_count": 10,
     "metadata": {},
     "output_type": "execute_result"
    }
   ],
   "source": [
    "b = np.arange(0,10).reshape(2,5)\n",
    "b"
   ]
  },
  {
   "cell_type": "markdown",
   "metadata": {},
   "source": [
    "When defining shapes the shape coordinates are given in the order '*y*', '*x*' for two-dimensional arrays, '*z*', '*y*', '*x*' for three-dimensional arrays, and so on."
   ]
  },
  {
   "cell_type": "code",
   "execution_count": 11,
   "metadata": {},
   "outputs": [
    {
     "name": "stdout",
     "output_type": "stream",
     "text": [
      "[[[ 0  1  2  3  4]\n",
      "  [ 5  6  7  8  9]\n",
      "  [10 11 12 13 14]]\n",
      "\n",
      " [[15 16 17 18 19]\n",
      "  [20 21 22 23 24]\n",
      "  [25 26 27 28 29]]\n",
      "\n",
      " [[30 31 32 33 34]\n",
      "  [35 36 37 38 39]\n",
      "  [40 41 42 43 44]]\n",
      "\n",
      " [[45 46 47 48 49]\n",
      "  [50 51 52 53 54]\n",
      "  [55 56 57 58 59]]]\n",
      "(4, 3, 5)\n"
     ]
    }
   ],
   "source": [
    "a = np.arange(60).reshape((4,3,5)) # z=4,y=3,x=5 \n",
    "print(a)\n",
    "print(a.shape)"
   ]
  },
  {
   "cell_type": "markdown",
   "metadata": {},
   "source": [
    "## Index and slicing elements of multi-dimensional arrays\n",
    "\n",
    "  * How does one create a 2D-array as in the following with NumPy?\n",
    "  * How to select the highlighted data?"
   ]
  },
  {
   "cell_type": "markdown",
   "metadata": {},
   "source": [
    "![slicing_img](images/numpy_2D_slicing_diagram_task.png)"
   ]
  },
  {
   "cell_type": "code",
   "execution_count": 12,
   "metadata": {},
   "outputs": [
    {
     "name": "stdout",
     "output_type": "stream",
     "text": [
      "red: [12 13 14] \n",
      "blue: [16 21 26] \n",
      "green:\n",
      " [[11 13 15]\n",
      " [16 18 20]\n",
      " [21 23 25]\n",
      " [26 28 30]\n",
      " [31 33 35]] \n",
      "purple: [12 17 22 27 32]\n"
     ]
    }
   ],
   "source": [
    "a = np.arange(11, 36).reshape(5, 5)\n",
    "# explanation: comma separates the arrays and colon does the positional selection\n",
    "# 2dArray[rows, columns]\n",
    "# double colon: get every n^th value e.g. ::2 menas print every second value and 2::3 means get every third value starting from third pos.\n",
    "red    = a[0, 1:4]  # get one-dim. subarray of row 0, start:1 (pos=2) end:4 (not included, pos=4)\n",
    "blue   = a[1:4, 0]  # get one-dim. subarrays (index 1,2,3) of column 0\n",
    "green  = a[:,::2] # get a two-dim. subarray of every second element by row and column\n",
    "purple = a[:,1]    # get the second column\n",
    "\n",
    "print('red:',red,'\\nblue:',blue,'\\ngreen:\\n',green,'\\npurple:',purple)"
   ]
  },
  {
   "cell_type": "markdown",
   "metadata": {},
   "source": [
    "### Class exercise: table\n",
    "![](images/numpy_slice_ex.png)\n",
    "- on the above image find the 5 different slicings using only the array slicing notation"
   ]
  },
  {
   "cell_type": "code",
   "execution_count": 13,
   "metadata": {},
   "outputs": [
    {
     "name": "stdout",
     "output_type": "stream",
     "text": [
      "yellow: 10 red: [11 12 13] blue: [14 24] green: [12 17 22] turkis: [[11 16 21 26]\n",
      " [13 18 23 28]]\n"
     ]
    }
   ],
   "source": [
    "a = np.arange(10, 30).reshape(4, 5)\n",
    "yellow = a[0,0]\n",
    "red = a[0, 1:4]\n",
    "blue = a[0:-1:2, -1]\n",
    "green = a[0:3, 2]\n",
    "turkis = a[:,1::2]\n",
    "\n",
    "\n",
    "print('yellow:',yellow, 'red:', red, 'blue:', blue, 'green:', green, 'turkis:',turkis.T)\n"
   ]
  },
  {
   "cell_type": "markdown",
   "metadata": {},
   "source": [
    "## 3D\n",
    "#### reshape can be done with multiple dimensions. Here is an example with 3d  \n",
    "`a = np.arange(0, 27).reshape((3, 3, 3))`  \n",
    "![](images/cube.png)"
   ]
  },
  {
   "cell_type": "code",
   "execution_count": 14,
   "metadata": {},
   "outputs": [
    {
     "data": {
      "text/plain": [
       "array([[[ 0,  1,  2],\n",
       "        [ 3,  4,  5],\n",
       "        [ 6,  7,  8]],\n",
       "\n",
       "       [[ 9, 10, 11],\n",
       "        [12, 13, 14],\n",
       "        [15, 16, 17]],\n",
       "\n",
       "       [[18, 19, 20],\n",
       "        [21, 22, 23],\n",
       "        [24, 25, 26]]])"
      ]
     },
     "execution_count": 14,
     "metadata": {},
     "output_type": "execute_result"
    }
   ],
   "source": [
    "np.arange(0, 27).reshape((3, 3, 3))"
   ]
  },
  {
   "cell_type": "code",
   "execution_count": 15,
   "metadata": {},
   "outputs": [
    {
     "name": "stdout",
     "output_type": "stream",
     "text": [
      "1st row (x-values): \n",
      " [0 1 2] \n",
      "---------\n",
      "1st collumn (y-values, where x==0): \n",
      " [0 3 6] \n",
      "---------\n",
      "1st depth (z-values, where y==0 and x==0): \n",
      " [ 0  9 18] \n",
      "---------\n",
      "value of first side, second slice, third piece:\n",
      " 5 \n",
      "-------------\n",
      "values of all x*z where y=2\n",
      " [[ 6  7  8]\n",
      " [15 16 17]\n",
      " [24 25 26]] \n",
      "----------\n",
      "all z and y values where x = 2: \n",
      " [[ 2  5  8]\n",
      " [11 14 17]\n",
      " [20 23 26]] \n",
      "--------\n",
      "skip each second z,y,x: \n",
      " [[[ 0  2]\n",
      "  [ 6  8]]\n",
      "\n",
      " [[18 20]\n",
      "  [24 26]]]\n"
     ]
    }
   ],
   "source": [
    "a = np.arange(0, 27).reshape((3, 3, 3)) # = (z, y, x)\n",
    "#print('whole cube: \\n',a, '\\n---------------')\n",
    "\n",
    "print('1st row (x-values): \\n',a[0,0,:],'\\n---------')\n",
    "print('1st collumn (y-values, where x==0): \\n',a[0,:,0],'\\n---------')\n",
    "print('1st depth (z-values, where y==0 and x==0): \\n',a[:,0,0],'\\n---------')\n",
    "print('value of first side, second slice, third piece:\\n',a[0, 1, 2], '\\n-------------')  # equal to a[0][1][2] = 5\n",
    "print('values of all x*z where y=2\\n',a[:,2], '\\n----------')  # equivivalent to a[:,2,:] all z, y=2, all x.\n",
    "print('all z and y values where x = 2: \\n',a[:,:,2], '\\n--------')  # \n",
    "print('skip each second z,y,x: \\n',a[::2,::2,::2])  # all z (skip each second) and all y (skip each second) etc."
   ]
  },
  {
   "cell_type": "markdown",
   "metadata": {},
   "source": [
    "### Class exercise: cube\n",
    "1. Slice out [12 13 14] from the above cube using only one slice. e.g: a[:,:,:]\n",
    "2. Slice out [3 12 21].\n",
    "3. Slice out all y-values where x is 2 and z is 0."
   ]
  },
  {
   "cell_type": "code",
   "execution_count": 16,
   "metadata": {},
   "outputs": [
    {
     "ename": "ModuleNotFoundError",
     "evalue": "No module named 'my_notebooks.solutions'",
     "output_type": "error",
     "traceback": [
      "\u001b[0;31m---------------------------------------------------------------------------\u001b[0m",
      "\u001b[0;31mModuleNotFoundError\u001b[0m                       Traceback (most recent call last)",
      "\u001b[0;32m<ipython-input-16-f5609910393a>\u001b[0m in \u001b[0;36m<module>\u001b[0;34m\u001b[0m\n\u001b[1;32m      1\u001b[0m \u001b[0mget_ipython\u001b[0m\u001b[0;34m(\u001b[0m\u001b[0;34m)\u001b[0m\u001b[0;34m.\u001b[0m\u001b[0mrun_line_magic\u001b[0m\u001b[0;34m(\u001b[0m\u001b[0;34m'reload_ext'\u001b[0m\u001b[0;34m,\u001b[0m \u001b[0;34m'autoreload'\u001b[0m\u001b[0;34m)\u001b[0m\u001b[0;34m\u001b[0m\u001b[0;34m\u001b[0m\u001b[0m\n\u001b[1;32m      2\u001b[0m \u001b[0;31m# %aimport solutions.numpy_ex\u001b[0m\u001b[0;34m\u001b[0m\u001b[0;34m\u001b[0m\u001b[0;34m\u001b[0m\u001b[0m\n\u001b[0;32m----> 3\u001b[0;31m \u001b[0;32mfrom\u001b[0m \u001b[0mmy_notebooks\u001b[0m\u001b[0;34m.\u001b[0m\u001b[0msolutions\u001b[0m \u001b[0;32mimport\u001b[0m \u001b[0mnumpy_ex\u001b[0m \u001b[0;32mas\u001b[0m \u001b[0mnump\u001b[0m\u001b[0;34m\u001b[0m\u001b[0;34m\u001b[0m\u001b[0m\n\u001b[0m\u001b[1;32m      4\u001b[0m \u001b[0mnump\u001b[0m\u001b[0;34m.\u001b[0m\u001b[0mcube_ex\u001b[0m\u001b[0;34m(\u001b[0m\u001b[0;34m)\u001b[0m\u001b[0;34m\u001b[0m\u001b[0;34m\u001b[0m\u001b[0m\n",
      "\u001b[0;31mModuleNotFoundError\u001b[0m: No module named 'my_notebooks.solutions'"
     ]
    }
   ],
   "source": [
    "%reload_ext autoreload\n",
    "# %aimport solutions.numpy_ex\n",
    "from my_notebooks.solutions import numpy_ex as nump\n",
    "nump.cube_ex()"
   ]
  },
  {
   "cell_type": "markdown",
   "metadata": {},
   "source": [
    "### Properties of the numpy array"
   ]
  },
  {
   "cell_type": "code",
   "execution_count": null,
   "metadata": {},
   "outputs": [],
   "source": [
    "a = np.arange(10, 70, dtype=np.int8).reshape((4,3,5))\n",
    "\n",
    "print('type: ',type(a))\n",
    "print('dtype',a.dtype)\n",
    "print('size',a.size)\n",
    "print('shape',a.shape)\n",
    "print('ndim: ',a.ndim)"
   ]
  },
  {
   "cell_type": "markdown",
   "metadata": {},
   "source": [
    "## Basic Operators"
   ]
  },
  {
   "cell_type": "code",
   "execution_count": null,
   "metadata": {},
   "outputs": [],
   "source": [
    "my_var = 'some other text'\n",
    "print(f'some text {my_var} sdfsdf sdfsdf ')"
   ]
  },
  {
   "cell_type": "code",
   "execution_count": null,
   "metadata": {},
   "outputs": [],
   "source": [
    "# np.ones()\n",
    "a = np.ones((3, 3))\n",
    "print(a, '\\n-------------')\n",
    "a[1] = 2 # asign value to multiple cells\n",
    "a[2] = 3\n",
    "b = np.arange(9).reshape(3, 3)\n",
    "\n",
    "print(f'a {a.dtype}:\\n',a)\n",
    "print(f'b {b.dtype}:\\n',b)"
   ]
  },
  {
   "cell_type": "code",
   "execution_count": null,
   "metadata": {},
   "outputs": [],
   "source": [
    "# assign values to all cells in a row\n",
    "import numpy as np\n",
    "a = np.ones((3, 3), dtype=int)\n",
    "a[1] = 2\n",
    "a[2] = 3\n",
    "b = np.arange(9).reshape(3, 3)\n",
    "\n",
    "print('a: \\n',a)\n",
    "print('b: \\n',b) \n",
    "\n",
    "print('a+b: \\n',a + b) # sum values on each index"
   ]
  },
  {
   "cell_type": "code",
   "execution_count": null,
   "metadata": {},
   "outputs": [],
   "source": [
    "print(a - b)"
   ]
  },
  {
   "cell_type": "code",
   "execution_count": null,
   "metadata": {},
   "outputs": [],
   "source": [
    "print(a * b)"
   ]
  },
  {
   "cell_type": "code",
   "execution_count": null,
   "metadata": {},
   "outputs": [],
   "source": [
    "print(b / a)"
   ]
  },
  {
   "cell_type": "code",
   "execution_count": null,
   "metadata": {},
   "outputs": [],
   "source": [
    "print(a ** 2)"
   ]
  },
  {
   "cell_type": "code",
   "execution_count": null,
   "metadata": {},
   "outputs": [],
   "source": [
    "a = np.arange(2,5)\n",
    "print('a',a)\n",
    "print('b',b)\n",
    "print(a < b)"
   ]
  },
  {
   "cell_type": "code",
   "execution_count": null,
   "metadata": {
    "scrolled": true
   },
   "outputs": [],
   "source": [
    "print(a > b)"
   ]
  },
  {
   "cell_type": "code",
   "execution_count": null,
   "metadata": {},
   "outputs": [],
   "source": [
    "# elementwize comparing a 1d with a 2d tensor by \"broadcasting\" the 1d array n number of times where n== first axis of the 2d array\n",
    "a = np.arange(0,10,2)\n",
    "b = np.arange(0,10).reshape(2,5)\n",
    "np.maximum(a,b)"
   ]
  },
  {
   "cell_type": "code",
   "execution_count": null,
   "metadata": {},
   "outputs": [],
   "source": [
    "array_a = np.array([1,2,3]) \n",
    "array_b = np.array([1,2,3]) \n",
    "\n",
    "print('adding all the products a[0,0]*b[0,0]+a[1,0]*b[1,0]...\\n'\n",
    "      ,np.dot(array_a, array_b))\n",
    "\n",
    "print('adding all the products a[0,0]*b[0,0]+a[1,0]*b[1,0]...\\n'\n",
    "      ,array_a.dot(array_b))\n"
   ]
  },
  {
   "cell_type": "code",
   "execution_count": null,
   "metadata": {},
   "outputs": [],
   "source": [
    "print('a:\\n',a)\n",
    "print('row 2 and 3:\\n',a[1:5]) # 5 does not exist, but no exception\n",
    "print('equals:\\n',a[1:3]==a[1:3])\n",
    "print('sum all cells in first column',a[0:3].sum())\n",
    "print('cumulated sum:\\n',a.cumsum())\n",
    "print('minimum cell value:\\n',a.min())\n",
    "print('maximum cell value:\\n',a.max())"
   ]
  },
  {
   "cell_type": "markdown",
   "metadata": {},
   "source": [
    "## Fancy Indexing\n",
    "\n"
   ]
  },
  {
   "cell_type": "code",
   "execution_count": null,
   "metadata": {},
   "outputs": [],
   "source": [
    "# use one np array as indices for another\n",
    "import numpy as np\n",
    "a = np.arange(0, 100, 10)\n",
    "indices = np.array([1, 5, -1]) # or np.array([1,-1,3]) is also acceptable\n",
    "print('a:\\t\\t\\t',a)\n",
    "print('indices:\\t\\t',indices)\n",
    "\n",
    "print('data of indices:\\t',a[indices])"
   ]
  },
  {
   "cell_type": "markdown",
   "metadata": {},
   "source": [
    "## Boolean masking is useful\n",
    "retrieving only the numbers that matches the condition. The mask is a condition\n",
    "and `a[mask]` is the part of a[] that matches the condition.\n",
    "\n"
   ]
  },
  {
   "cell_type": "code",
   "execution_count": null,
   "metadata": {},
   "outputs": [],
   "source": [
    "# X=Having 50 values between 0-2*pi, Y=sinus values to x\n",
    "import matplotlib.pyplot as plt\n",
    " \n",
    "xs = np.linspace(0, 2 * np.pi, 50)\n",
    "ys = np.sin(xs)\n",
    "print(ys, '\\n',len(ys))\n",
    "plt.plot(xs, ys)"
   ]
  },
  {
   "cell_type": "code",
   "execution_count": null,
   "metadata": {},
   "outputs": [],
   "source": [
    "mask_positive = ys >= 0                        # condition for the blue crosses\n",
    "print(mask_positive)\n",
    "plt.plot(xs[mask_positive], ys[mask_positive], 'bx')    # rendering the blue plots only with filtered values\n",
    "mask_negative = (ys < 0)                       # condition for the green dots\n",
    "plt.plot(xs[mask_negative], ys[mask_negative], 'go')    # condition applied to xs and ys data sets\n",
    "plt.show()"
   ]
  },
  {
   "cell_type": "markdown",
   "metadata": {},
   "source": [
    "## Other types of Indexing\n",
    "\n",
    "As we saw above, you can omit index numbers, which then default to index 0 or index for the last element of the array."
   ]
  },
  {
   "cell_type": "code",
   "execution_count": null,
   "metadata": {},
   "outputs": [],
   "source": [
    "a = np.arange(0, 100, 10)\n",
    "b = a[:5]                       # when first index is 0 we can omit it.\n",
    "c = a[a >= 50]                  # mask provided to filter all values below 50\n",
    "d = a[(a%20 == 0) & (a != 40)]  # more complex conditinal mask\n",
    "e = np.where((a%20 == 0) & (a != 40), a, None) # mask condition like ternary operator\n",
    "\n",
    "print('a:\\n',a,'\\nb:\\n',b,'\\n:c\\n',c,'\\nd:\\n',d,'\\ne:\\n',e)"
   ]
  },
  {
   "cell_type": "markdown",
   "metadata": {},
   "source": [
    "## Where\n",
    "\n",
    "the `where()` function is another useful way of retrieving elements of an array conditionally. Simply pass it a condition and it will return a tuple of lists of elements where that condition is true."
   ]
  },
  {
   "cell_type": "code",
   "execution_count": null,
   "metadata": {},
   "outputs": [],
   "source": [
    "a = np.arange(0, 100, 10).reshape(2,5)\n",
    "\n",
    "b = np.where(a < 50)\n",
    "print(a)\n",
    "print(b)\n",
    "\n",
    "print(a[b])"
   ]
  },
  {
   "cell_type": "code",
   "execution_count": null,
   "metadata": {
    "scrolled": true
   },
   "outputs": [],
   "source": [
    "a = np.arange(0, 100, 10)\n",
    "b = np.where(a < 50)     # returns a tuple\n",
    "c = np.where(a >= 50)[0] # returns an array (first element of the tuple is the data array)\n",
    "\n",
    "print('b',b)\n",
    "print('a contains all values: ',a)\n",
    "print('b contains the indices of the filtered values: ',b,type(b))\n",
    "print('c contains the filtered values: in',c,type(c))\n",
    "print('using the indices returned by np.where to get the values:\\n',a[c])"
   ]
  },
  {
   "cell_type": "markdown",
   "metadata": {},
   "source": [
    "### other useful operations\n",
    "##### copy ndarray\n",
    "`np.copy(arr)`"
   ]
  },
  {
   "cell_type": "code",
   "execution_count": null,
   "metadata": {},
   "outputs": [],
   "source": [
    "tens = np.arange(10,101,10)\n",
    "tens_copy = np.copy(tens[0:4])\n",
    "tens_copy"
   ]
  },
  {
   "cell_type": "markdown",
   "metadata": {},
   "source": [
    "### Class exercise: masking\n",
    "- For the dataset: `data = np.arange(1,101).reshape(10,10)`\n",
    "  - apply a mask that will return only the even numbers\n",
    "  - using `np.where()` return only numbers that ends with 6\n"
   ]
  },
  {
   "cell_type": "code",
   "execution_count": null,
   "metadata": {},
   "outputs": [],
   "source": [
    "data = np.arange(1,101).reshape(10,10)\n",
    "\n",
    "even_numbers = data[data%2==0]\n",
    "#even_numbers = np.where(data %2==0)\n",
    "ends_with_6 = np.where(data%10 == 7)\n",
    "\n",
    "print(even_numbers)\n",
    "print(ends_with_6)"
   ]
  },
  {
   "cell_type": "markdown",
   "metadata": {},
   "source": [
    "# Why do we care about NumPy?\n",
    "\n",
    "Because we want to get things done. As you remember from the last session about plotting, we had to write quite a bit of code to compute the histograms for the age distribution within Copenhagen citizens per year.\n",
    "\n",
    "By representing our input data as a matrix, i.e., a two-dimensional array, and using boolean indexing, we can generate for example the histograms way more concisely and with way fewer lines of code."
   ]
  },
  {
   "cell_type": "code",
   "execution_count": null,
   "metadata": {},
   "outputs": [],
   "source": [
    "%%bash\n",
    "head data/befkbhalderstatkode.csv"
   ]
  },
  {
   "cell_type": "code",
   "execution_count": 19,
   "metadata": {},
   "outputs": [
    {
     "name": "stdout",
     "output_type": "stream",
     "text": [
      "<class 'numpy.ndarray'>  of size:  2712585\n",
      "The skip_header=1 means that we have only the data\n",
      "\n",
      "first line:\n",
      " [2015    1    0 5100  614] \n",
      "last line\n",
      " [1992   99   93 5100    1]\n"
     ]
    }
   ],
   "source": [
    "# read data from csv file into 2d numpy array\n",
    "import numpy as np\n",
    "filename = './data/befkbhalderstatkode.csv'\n",
    "\n",
    "bef_stats_df = np.genfromtxt(filename, delimiter=',', dtype=np.uint, skip_header=1)\n",
    "dd = bef_stats_df\n",
    "print(type(bef_stats_df),' of size: ',bef_stats_df.size)\n",
    "print('The skip_header=1 means that we have only the data\\n\\nfirst line:\\n',bef_stats_df[0],'\\nlast line\\n',bef_stats_df[len(bef_stats_df)-1])"
   ]
  },
  {
   "cell_type": "code",
   "execution_count": 20,
   "metadata": {},
   "outputs": [
    {
     "data": {
      "text/plain": [
       "array([[1998,    1,    0, 5100,  500],\n",
       "       [1998,    1,    0, 5106,    3],\n",
       "       [1998,    1,    0, 5110,    5],\n",
       "       ...,\n",
       "       [1998,   99,   85, 5100,    1],\n",
       "       [1998,   99,   91, 5100,    1],\n",
       "       [1998,   99,   99, 5100,    1]], dtype=uint64)"
      ]
     },
     "execution_count": 20,
     "metadata": {},
     "output_type": "execute_result"
    }
   ],
   "source": [
    "dd = bef_stats_df\n",
    "mask = (dd[:,0] == 1998) # filter only rows that has value = 1998 in column 0\n",
    "dd[mask]"
   ]
  },
  {
   "cell_type": "markdown",
   "metadata": {},
   "source": [
    "### Amount of 18 years old Danes in CPH?\n",
    "\n",
    "For example, how can we quickly compute the amount of all Danes (`STATKODE == 5100`) with age 18 in **all neighbourhoods** for the year 2015?\n",
    "\n",
    "We just collect that data by expressing it as a conjunction of constraints and subsequently sum it up.\n"
   ]
  },
  {
   "cell_type": "code",
   "execution_count": null,
   "metadata": {},
   "outputs": [],
   "source": [
    "mask = (dd[:,0] == 2015) & (dd[:,2] == 18) & (dd[:,3] == 5100)\n",
    "print(dd[mask])\n",
    "print('all the areas',set(dd[:,1]))\n",
    "print('18y in each area',list(dd[mask][:,4]))\n",
    "print('sum all the cph areas\\n',np.sum(dd[mask][:,4]))"
   ]
  },
  {
   "cell_type": "code",
   "execution_count": null,
   "metadata": {},
   "outputs": [],
   "source": [
    "import matplotlib.pyplot as plt\n",
    "plt.bar(list(set(dd[:,1])), list(dd[mask][:,4]))\n",
    "plt.axis([1,10,300,600])"
   ]
  },
  {
   "cell_type": "markdown",
   "metadata": {},
   "source": [
    "### Distribution of French and Germans in CPH?\n",
    "\n",
    "\n",
    "Similarly, in which neighbourhood lifed the most Frenchmen and Germans respectively in 2015?\n",
    "\n",
    "The following dictionary of neighbourhood codes is created from the explanatory text on the municipalities homepage."
   ]
  },
  {
   "cell_type": "code",
   "execution_count": 61,
   "metadata": {},
   "outputs": [],
   "source": [
    "neighb = {1: 'Indre By', 2: 'Østerbro', 3: 'Nørrebro', 4: 'Vesterbro/Kgs. Enghave', \n",
    "          5: 'Valby', 6: 'Vanløse', 7: 'Brønshøj-Husum', 8: 'Bispebjerg', 9: 'Amager Øst', \n",
    "          10: 'Amager Vest', 99: 'Udenfor'}"
   ]
  },
  {
   "cell_type": "code",
   "execution_count": 62,
   "metadata": {},
   "outputs": [],
   "source": [
    "def number_of_people_per_neighbourhood(n, mask):\n",
    "    all_people_in_given_n = dd[mask & (dd[:,1] == n)]\n",
    "    sum_of_people = all_people_in_given_n[:,4].sum() # index 4 is no of 'PERSONER'\n",
    "    return sum_of_people"
   ]
  },
  {
   "cell_type": "code",
   "execution_count": 63,
   "metadata": {},
   "outputs": [
    {
     "name": "stdout",
     "output_type": "stream",
     "text": [
      "[346 337 305 325 133  85  65 135 155 243  27]\n"
     ]
    },
    {
     "data": {
      "text/plain": [
       "array([544, 557, 653, 474, 258, 166, 197, 314, 372, 460,  26],\n",
       "      dtype=uint64)"
      ]
     },
     "execution_count": 63,
     "metadata": {},
     "output_type": "execute_result"
    }
   ],
   "source": [
    "french_mask = (dd[:,0] == 2015) & (dd[:,3] == 5130)\n",
    "german_mask = (dd[:,0] == 2015) & (dd[:,3] == 5180)\n",
    "\n",
    "french = np.array([number_of_people_per_neighbourhood(n, french_mask) for n in neighb.keys()])\n",
    "print(french)\n",
    "germans = np.array([number_of_people_per_neighbourhood(n, german_mask) for n in neighb.keys()])\n",
    "germans"
   ]
  },
  {
   "cell_type": "code",
   "execution_count": null,
   "metadata": {},
   "outputs": [],
   "source": [
    "index_max_fr = np.argmax(french)\n",
    "index_max_de = np.argmax(germans)\n",
    "\n",
    "msg = 'The majority of {} {} are living in {}'\n",
    "french_neighbourhood_index = list(neighb.keys())[index_max_fr]\n",
    "print(msg.format(french.max(), 'Frenchmen', neighb[french_neighbourhood_index]))\n",
    "print(msg.format(germans.max(), 'Germans', neighb[list(neighb.keys())[index_max_de]]))"
   ]
  },
  {
   "cell_type": "markdown",
   "metadata": {},
   "source": [
    "### From which country came the most imigrants in 2015?\n",
    "\n",
    "Popular belief says that most imigrants come somewhere from the middle-east. But is it true?\n",
    "\n",
    "To answer this question, convert the cuntry code data from Danmarks Statistik (http://www.dst.dk/da/Statistik/dokumentation/Times/forebyggelsesregistret/statkode.aspx) into a Python dictionary."
   ]
  },
  {
   "cell_type": "code",
   "execution_count": null,
   "metadata": {},
   "outputs": [],
   "source": [
    "country_codes = {0: 'Uoplyst (1)', 5001: 'Uoplyst (2)', 5100: 'Danmark', 5101: 'Grønland', \n",
    "                 5102: 'Udlandet uoplyst', 5103: 'Statsløs', 5104: 'Finland', \n",
    "                 5105: 'Island, ligeret dansk', 5106: 'Island', 5107: 'Liechtenstein', \n",
    "                 5108: 'Luxembourg', 5109: 'Monaco', 5110: 'Norge', 5114: 'Europa uoplyst', \n",
    "                 5115: 'Kongelig', 5120: 'Sverige', 5122: 'Albanien', 5124: 'Andorra', \n",
    "                 5126: 'Belgien', 5128: 'Bulgarien', 5129: 'Tjekkoslovakiet', \n",
    "                 5130: 'Frankrig', 5134: 'Grækenland', 5140: 'Nederlandene', \n",
    "                 5142: 'Irland', 5150: 'Italien', 5151: 'Serbien og Montenegro', \n",
    "                 5152: 'Jugoslavien', 5153: 'Malta', 5154: 'Polen', 5156: 'Portugal', \n",
    "                 5158: 'Rumænien', 5159: 'San Marino', 5160: 'Schweiz', \n",
    "                 5162: 'Sovjetunionen', 5164: 'Spanien', 5170: 'Storbritannien', \n",
    "                 5172: 'Tyrkiet', 5174: 'Ungarn', 5176: 'Vatikanstaten', 5180: 'Tyskland', \n",
    "                 5182: 'Østrig', 5199: 'Europa uoplyst', 5202: 'Algeriet', 5204: 'Angola', \n",
    "                 5207: 'Botswana', 5213: 'Burundi', 5214: 'Etiopien', 5215: 'Comorerne', \n",
    "                 5216: 'Eritrea', 5222: 'Gambia', 5228: 'Ghana', 5230: 'Ækvatorialguinea', \n",
    "                 5231: 'Guinea-Bissau', 5232: 'Guinea', 5233: 'Kap Verde', 5234: 'Kenya', \n",
    "                 5235: 'Lesotho', 5236: 'Liberia', 5238: 'Libyen', 5240: 'Mozambique', \n",
    "                 5242: 'Madagaskar', 5243: 'Mali', 5244: 'Marokko', 5245: 'Mauritius', \n",
    "                 5246: 'Nigeria', 5247: 'Namibia', 5248: 'Marshalløerne', \n",
    "                 5255: 'Sierra Leone', 5258: 'Sudan', 5259: 'Swaziland', 5260: 'Sydsudan', \n",
    "                 5262: 'Sydafrika', 5266: 'Tanzania', 5268: 'Tunesien', 5269: 'Uganda', \n",
    "                 5272: 'Egypten', 5273: 'Tuvalu', 5274: 'Kiribati', 5275: 'Vanuatu', \n",
    "                 5276: 'Centralafrikanske Republik', 5277: 'Cameroun', \n",
    "                 5278: 'Congo, Demokratiske Republik', 5279: 'Congo, Republikken', \n",
    "                 5281: 'Benin', 5282: 'Elfenbenskysten', 5283: 'Gabon', 5284: 'Mauretanien', \n",
    "                 5285: 'Niger', 5287: 'Rwanda', 5288: 'Senegal', 5289: 'Somalia', \n",
    "                 5292: 'Tchad', 5293: 'Togo', 5294: 'Burkina Faso', 5295: 'Zimbabwe', \n",
    "                 5296: 'Zambia', 5297: 'Malawi', 5298: 'Seychellerne', \n",
    "                 5299: 'Afrika uoplyst', 5302: 'Argentina', 5303: 'Bahamas', \n",
    "                 5304: 'Bolivia', 5305: 'Barbados', 5306: 'Brasilien', 5308: 'Guyana', \n",
    "                 5309: 'Antigua og Barbuda', 5310: 'Nauru', \n",
    "                 5311: 'Skt. Vincent og Grenadinerne', 5314: 'Canada', 5316: 'Chile', \n",
    "                 5318: 'Colombia', 5319: 'Syd- og Mellemamerika uoplyst', \n",
    "                 5322: 'Costa Rica', 5324: 'Cuba', 5326: 'Dominikanske Republik', \n",
    "                 5328: 'Ecuador', 5338: 'Guatemala', 5339: 'Grenada', 5342: 'Haiti', \n",
    "                 5344: 'Surinam', 5345: 'Dominica', 5347: 'Skt. Lucia', 5348: 'Honduras', \n",
    "                 5352: 'Jamaica', 5354: 'Mexico', 5356: 'Nicaragua', 5358: 'Panama', \n",
    "                 5364: 'Paraguay', 5366: 'Peru', 5372: 'El Salvador', \n",
    "                 5374: 'Trinidad og Tobago', 5376: 'Uruguay', 5390: 'USA', \n",
    "                 5392: 'Venezuela', 5395: 'Vestindiske Øer', 5397: 'Nordamerika uoplyst', \n",
    "                 5398: 'Syd- og Mellemamerika uoplyst', 5402: 'Yemen', \n",
    "                 5403: 'Forenede Arabiske Emirater', 5404: 'Afghanistan', 5406: 'Bahrain', \n",
    "                 5408: 'Bhutan', 5410: 'Bangladesh', 5412: 'Brunei', 5414: 'Myanmar', \n",
    "                 5416: 'Cambodja', 5418: 'Sri Lanka', 5422: 'Cypern', 5424: 'Taiwan', \n",
    "                 5432: 'Indien', 5434: 'Indonesien', 5435: 'Østtimor', 5436: 'Irak', \n",
    "                 5438: 'Iran', 5442: 'Israel', 5444: 'Japan', 5446: 'Jordan', 5448: 'Kina', \n",
    "                 5452: 'Kuwait', 5454: 'Laos', 5456: 'Libanon', 5457: 'Maldiverne', \n",
    "                 5458: 'Malaysia', 5459: 'Mongoliet', 5462: 'Oman', 5464: 'Nepal', \n",
    "                 5466: 'Nordkorea', 5468: 'Vietnam (1)', 5471: 'Asien uoplyst', \n",
    "                 5472: 'Pakistan', 5474: 'Filippinerne', 5478: 'Saudi-Arabien', \n",
    "                 5482: 'Singapore', 5484: 'Sydkorea', 5486: 'Syrien', \n",
    "                 5487: 'Mellemøsten uoplyst', 5488: 'Vietnam (2)', 5492: 'Thailand', \n",
    "                 5496: 'Qatar', 5499: 'Asien uoplyst', 5502: 'Australien', 5505: 'Tonga', \n",
    "                 5508: 'Fiji', 5514: 'New Zealand', 5522: 'Samoa', 5525: 'Djibouti', \n",
    "                 5526: 'Belize', 5534: 'Papua Ny Guinea', 5599: 'Øer i Stillehavet', \n",
    "                 5607: 'Estland', 5609: 'Letland', 5611: 'Litauen', \n",
    "                 5621: 'Sao Tome og Principe', 5623: 'Salomonøerne', \n",
    "                 5625: 'Skt. Kitts og Nevis', 5700: 'Rusland', 5704: 'Ukraine', \n",
    "                 5706: 'Hviderusland', 5708: 'Armenien', 5710: 'Aserbajdsjan', \n",
    "                 5712: 'Moldova', 5714: 'Usbekistan', 5716: 'Kasakhstan', \n",
    "                 5718: 'Turkmenistan', 5720: 'Kirgisistan', 5722: 'Tadsjikistan', \n",
    "                 5724: 'Georgien', 5750: 'Kroatien', 5752: 'Slovenien', \n",
    "                 5754: 'Bosnien-Hercegovina', 5756: 'Makedonien', 5757: 'Serbien', \n",
    "                 5758: 'Jugoslavien, Forbundsrepublikken', 5759: 'Montenegro', \n",
    "                 5761: 'Kosovo', 5776: 'Tjekkiet', 5778: 'Slovakiet', 5779: 'Cookøerne', \n",
    "                 5800: 'Land ukendt (2)', 5901: 'Færøerne uoplyst', 5902: 'Færøerne', \n",
    "                 5999: 'Land ukendt (1)'}"
   ]
  },
  {
   "cell_type": "code",
   "execution_count": null,
   "metadata": {},
   "outputs": [],
   "source": [
    "data = dd\n",
    "nordic_countries = [\"Norge\",\"Sverige\",\"Finland\",\"Island\",\"Grønland\"] \n",
    "old_nords = 0 \n",
    "for x,y in country_codes.items(): \n",
    "    if y in nordic_countries: \n",
    "        #print(x) \n",
    "        print(y) \n",
    "        mask = (data[:,0] == 2015) & (data[:,2] > 65) & (data[:,3] == x) \n",
    "        country_sum = (data[mask][0:,4].sum()) \n",
    "        print(country_sum)\n",
    "        old_nords += country_sum\n",
    "print(\"Nordiske beboere over 65 år: \",old_nords) \n",
    "\n",
    "# control the sum by slicing a different way\n",
    "control = dd[np.isin(dd[:,3],[5101,5104,5106,5110,5120])]\n",
    "control = control[(control[:,0] == 2015) & (control[:,2]>65)]\n",
    "control[:,4].sum()"
   ]
  },
  {
   "cell_type": "code",
   "execution_count": null,
   "metadata": {},
   "outputs": [],
   "source": [
    "import json\n",
    "with open('data/befkbh_stat_code.json','w') as f:\n",
    "    f.write(json.dumps(country_codes))"
   ]
  },
  {
   "cell_type": "code",
   "execution_count": null,
   "metadata": {},
   "outputs": [],
   "source": [
    "!head data/befkbh_stat_code.json"
   ]
  },
  {
   "cell_type": "code",
   "execution_count": null,
   "metadata": {},
   "outputs": [],
   "source": [
    "# unique years in the dataset:\n",
    "# x = year, \n",
    "unique_years = np.unique(dd[:,0]) # all yś where x is index 0 (which is year)\n",
    "unique_years"
   ]
  },
  {
   "cell_type": "code",
   "execution_count": null,
   "metadata": {},
   "outputs": [],
   "source": [
    "# dataset is [year=0, age=1, area=2, nationality=3, amount=4]\n",
    "\n",
    "# unique nationalities/citizenships:\n",
    "c_keys = np.unique(dd[:,3])\n",
    "c_keys = c_keys[c_keys != 5100] #remove danish citizens\n",
    "#print(c_keys)\n",
    "mask_year_2012 = dd[:,0] == 2012\n",
    "mask_swedish = dd[:,3] == 5120\n",
    "\n",
    "#SUM all the swedish people in 2012\n",
    "np.sum(dd[(mask_year_2012) & (mask_swedish)][:,4])\n"
   ]
  },
  {
   "cell_type": "markdown",
   "metadata": {},
   "source": [
    "## Exercise numpy and csv\n",
    "\n",
    "1. load the csv file: befkbhalderstatkode.csv into a numpy ndarray\n",
    "2. How many german children of 0 years were there in Copenhagen in 2015?\n",
    "3. create a function that can take any combination of the 4 parameters:AAR,BYDEL,ALDER,STATKODE and return population data\n",
    "4. create a new function like previous so that it can sum values for all ages if age is not provided to the function\n",
    "5. further add functionality to sum values if citizenship or area was not provided to function.\n",
    "6. create a new function that can also give average values for each year if year whas not provided.\n",
    "7. create a function, that given year and nationality can return which area had the most of these nationals by that year. Test it by finding out which area had the most Moroccan people in both 1992 and 2015\n",
    "8. Find the Area(s) where fewest foreingers lived in Copenhagen in 1992 and 2015 respectively\n",
    "9. Find out what age most French people have in 2015"
   ]
  },
  {
   "cell_type": "code",
   "execution_count": 27,
   "metadata": {},
   "outputs": [
    {
     "name": "stdout",
     "output_type": "stream",
     "text": [
      "35\n"
     ]
    }
   ],
   "source": [
    "filename = './data/befkbhalderstatkode.csv'\n",
    "\n",
    "raw_data = np.genfromtxt(filename, delimiter=',', dtype=np.uint, skip_header=1)\n",
    "german_mask = (raw_data[:,0] == 2015) & (raw_data[:,3] == 5180) & (raw_data[:,2] == 0)\n",
    "print(np.sum(raw_data[german_mask][:,4]))\n",
    "\n"
   ]
  },
  {
   "cell_type": "code",
   "execution_count": 56,
   "metadata": {},
   "outputs": [],
   "source": [
    "def get_population_data(aar, bydel, alder, statkode):\n",
    "    if(alder is None):\n",
    "        mask = ((raw_data[:,0] == aar) & (raw_data[:,1] == bydel) & (raw_data[:,3] == statkode))\n",
    "    else:\n",
    "        mask = ((raw_data[:,0] == aar) & (raw_data[:,1] == bydel) & (raw_data[:,2] == alder) & (raw_data[:,3] == statkode))\n",
    "    return np.sum(raw_data[mask][:,4])"
   ]
  },
  {
   "cell_type": "code",
   "execution_count": 58,
   "metadata": {},
   "outputs": [
    {
     "name": "stdout",
     "output_type": "stream",
     "text": [
      "3\n"
     ]
    }
   ],
   "source": [
    "print(get_population_data(2015, 1,10,5180))"
   ]
  },
  {
   "cell_type": "markdown",
   "metadata": {},
   "source": [
    "## Find largest nationality group\n",
    "From the Copenhagen citizen data we will find out 2 things about year 2015:\n",
    "1. What nationality group (beside danish) is the largest\n",
    "2. How many people are in that group\n"
   ]
  },
  {
   "cell_type": "code",
   "execution_count": null,
   "metadata": {},
   "outputs": [],
   "source": [
    "# create a set of conuntry codes with people living in Copenhagen\n",
    "c_keys = np.unique(dd[:,3])\n",
    "# we are interested in non-danes only\n",
    "c_keys = c_keys[c_keys != 5100]\n",
    "print('all the country keys:\\n',c_keys)\n",
    "# and again we only consider 2015\n",
    "mask_year_2015 = (dd[:,0] == 2015)\n",
    "\n",
    "\n",
    "# list comprehension to loop all country codes and sum all citizens by country_code for year 2015\n",
    "number_per_citizen_group = np.array([np.sum(dd[mask_year_2015 & (dd[:,3] == c_code)][:,4]) for c_code in c_keys])\n",
    "print('all the number of people in each citizen group:\\n',number_per_citizen_group)\n",
    "# use np.argmax to find the index of the largest group\n",
    "idx_of_largest_group = np.argmax(number_per_citizen_group)\n",
    "print('index (or indices if more) of the largest group: ',idx_of_largest_group)\n",
    "county_code = c_keys[idx_of_largest_group] # using the index of the largest summed up group and finding the value of that index in another slice of the same dataset\n",
    "print('c_k:',county_code)\n",
    "country_name = country_codes[county_code] # this is a dictionary where key=country_code and value=country name\n",
    "print('country_name: ',country_name)\n",
    "print('¤¤¤¤¤¤¤¤¤¤¤¤¤¤¤¤¤¤¤¤¤¤¤RESULT¤¤¤¤¤¤¤¤¤¤¤¤¤¤¤¤¤¤¤¤¤¤¤¤¤¤¤¤¤¤¤¤¤')\n",
    "print(f'{number_per_citizen_group.max()} inhabitants come from {country_name}')\n",
    "print('number pr c group:\\n',number_per_citizen_group)"
   ]
  },
  {
   "cell_type": "code",
   "execution_count": null,
   "metadata": {},
   "outputs": [],
   "source": [
    "#\n",
    "no_per_c_sorted = sorted(np.copy(number_per_citizen_group))\n",
    "print(no_per_c_sorted)\n",
    "print('.------------------------------------------------------------------------------------------')\n",
    "print('group with most people: ', no_per_c_sorted[-1])\n",
    "\n",
    "idx_highest_pop = np.where(number_per_citizen_group==no_per_c_sorted[-1])\n",
    "\n",
    "snd_max_idx = idx_highest_pop[0][0] # [0][0] from ndarray to array to scalar\n",
    "print('max idx: ',snd_max_idx)\n",
    "#no_per_c[no_per_c == no_per_c_orig[-2]][0]\n",
    "country_codes[c_keys[snd_max_idx]]"
   ]
  },
  {
   "cell_type": "code",
   "execution_count": null,
   "metadata": {},
   "outputs": [],
   "source": [
    "def transformByMaks(data, mask):\n",
    "    \"\"\"\n",
    "    arg1 is the dataset on the form [[year, area, age, nationality, amount]]\n",
    "    arg2 is the mask on the form data[:,3] == 5120 to find swedish or data[:,0] == 1999 to filter on year\n",
    "    returns a new numpy array with the filtered data.\n",
    "    \"\"\"\n",
    "    return data[mask]\n",
    "\n",
    "def getDataByX(data, x_value):\n",
    "    params = {'year':0, 'area':1, 'age':2, 'nationality': 3}\n",
    "    x = params[x_value]\n",
    "    return {year:np.sum(data[:,4]) for year in np.unique(data[x])}\n",
    "    \n",
    "mask = (dd[:,2] == 18) & (dd[:,3] == 5100)\n",
    "result = transformByMaks(dd, mask)\n",
    "print(result)\n",
    "print(getDataByX(result, 'year'))"
   ]
  },
  {
   "cell_type": "markdown",
   "metadata": {},
   "source": [
    "### Computing a Histogram Concisely\n",
    "\n",
    "As said, we are using NumPy to express our data queries more concisely. The first three lines of the following program compute the histogram of ages in 2015. That is, in three lines we can express the same as in the 13 lines of , see the function `get_population_stat` under *Bar Plots* in *Intro to Plotting*."
   ]
  },
  {
   "cell_type": "code",
   "execution_count": null,
   "metadata": {
    "scrolled": false
   },
   "outputs": [],
   "source": [
    "import matplotlib.pyplot as plt\n",
    "mask_2015 = (dd[:,0] == 2015)\n",
    "set_of_ages = np.unique(dd[mask_2015][:,2])\n",
    "freq_ages = np.array([np.sum(dd[mask_2015 & (dd[:,2] == age)][:,4]) \n",
    "                      for age in set_of_ages])\n",
    "\n",
    "plt.bar(set_of_ages, freq_ages)\n"
   ]
  },
  {
   "cell_type": "markdown",
   "metadata": {},
   "source": [
    "And computing the increase of foreign population from 2014 to 2015 is similarly easy. Read and explain the following program."
   ]
  },
  {
   "cell_type": "code",
   "execution_count": null,
   "metadata": {},
   "outputs": [],
   "source": [
    "mask = (dd[:,3] != 5100)\n",
    "sum_14 = np.sum(dd[(dd[:,0] == 2014) & mask][:,4])\n",
    "sum_15 = np.sum(dd[(dd[:,0] == 2015) & mask][:,4])\n",
    "\n",
    "plt.axis([2013, 2016, 0, max([sum_14, sum_15]) + 2000])\n",
    "plt.bar([2014, 2015], [sum_14, sum_15], width=0.8,  align='center')\n",
    "plt.xticks([2014, 2015])\n",
    "plt.ticklabel_format(useOffset=False)"
   ]
  },
  {
   "cell_type": "markdown",
   "metadata": {},
   "source": [
    "## class exercise: extracting\n",
    "Based on the Copenhagen population data do the following (not including danish citizens):\n",
    "1. Find the 10 largest population groups\n",
    "2. Find the 10 largest population groups of children (0-17 y.o.) \n",
    "3. Create a barplot with the 10 largest groups on x-axis and 2 bars of both adult and children on y-axis\n",
    "  - make one bar red and the other green\n",
    "  - give them labels"
   ]
  },
  {
   "cell_type": "markdown",
   "metadata": {},
   "source": [
    "### Numpy ufuncs\n",
    "ufuncs (universal functions) are a way to use vectorized computation rather than iterate over a collection and do elementwize computation. An example of a ufunc:\n",
    "```python\n",
    "x = [1, 2, 3, 4]\n",
    "y = [4, 5, 6, 7]\n",
    "z = np.add(x, y)\n",
    "```\n",
    "#### Create our own ufunc\n",
    "By using numpys: `np.frompyfunc(function_name, number_of_input_arrays, number_of_returned_arrays)`"
   ]
  },
  {
   "cell_type": "code",
   "execution_count": null,
   "metadata": {},
   "outputs": [],
   "source": [
    "import numpy as np\n",
    "\n",
    "def myadd(x, y):\n",
    "    return x+y\n",
    "\n",
    "myadd = np.frompyfunc(myadd, 2, 1)\n",
    "\n",
    "print(myadd([1, 2, 3, 4], [5, 6, 7, 8]))"
   ]
  },
  {
   "cell_type": "markdown",
   "metadata": {},
   "source": [
    "# Self study: For what else can we use NumPy?\n",
    "\n",
    "Images are just multi-dimensional arrays. For example, lets have a look at a small running Commander Keen\n",
    "\n",
    "![keen](images/commander_keen.png)\n",
    "\n",
    "With the following code we receive the image and convert it into a NumPy array so that we can inspect the image data."
   ]
  },
  {
   "cell_type": "code",
   "execution_count": null,
   "metadata": {
    "scrolled": true
   },
   "outputs": [],
   "source": [
    "!wget -O data/commander_keen_sprite_run.gif https://16couleurs.files.wordpress.com/2014/01/commander_keen_sprite_run.gif?w=611"
   ]
  },
  {
   "cell_type": "code",
   "execution_count": null,
   "metadata": {},
   "outputs": [],
   "source": [
    "%%bash\n",
    "wget -O data/keen.gif https://16couleurs.files.wordpress.com/2014/01/commander_keen_sprite_run.gif"
   ]
  },
  {
   "cell_type": "code",
   "execution_count": null,
   "metadata": {},
   "outputs": [],
   "source": [
    "#### import webget\n",
    "import numpy as np\n",
    "from PIL import Image\n",
    "\n",
    "\n",
    "im = Image.open('data/commander_keen_sprite_run.gif')\n",
    "# convert the data to RGB color space\n",
    "rgb_im = im.convert('RGB')\n",
    "print(rgb_im)\n",
    "im_array = np.asarray(rgb_im)\n",
    "print(im_array.shape, ' represents the rows(y),columns(x) and pixelcolor (as rgb)')\n",
    "print('255 255 255 is white to see other colors lets slice away the first 10 squares of data: \\n\\n',im_array[10:11,7:17,0:])\n",
    "im_data = np.copy(im_array)  # we have to copy the data as we want to modify it later"
   ]
  },
  {
   "cell_type": "markdown",
   "metadata": {},
   "source": [
    "Let's get a feeling for how colors are distributed in the image by plotting the values per color channel."
   ]
  },
  {
   "cell_type": "code",
   "execution_count": null,
   "metadata": {},
   "outputs": [],
   "source": [
    "# import matplotlib.pyplot as plt\n",
    "print('im_data.shape[0] is the y-values (verical dimension):\\n',im_data.shape[0],'\\nim_data.shape[1] is the x-values (horizontal dimension):\\n',im_data.shape[1],'\\nim_data.shape[2] is the actual rgb color of the pixel:\\n',im_data.shape[2])\n",
    "img_line = im_data.reshape(im_data.shape[0] * im_data.shape[1], im_data.shape[2]) # reshaping 3d array to a 2d array by putting the x,y values one long data row\n",
    "print('now its a 2d array:\\n',img_line)\n",
    "print('new shape: ',img_line.shape)\n",
    "plt.plot(img_line[:,0], 'ro') #shorthand for red circle\n",
    "plt.plot(img_line[:,1], 'gx') #green x\n",
    "plt.plot(img_line[:,2], 'b+') #blue plus\n",
    "plt.xlabel('Pixels starting from upper left corner')\n",
    "plt.ylabel('strength of the r,g or b color in the pixel') # white color shows up as full force on all 3 chanels, but blue overpowers because it is written on top (last)\n",
    "plt.show()"
   ]
  },
  {
   "cell_type": "markdown",
   "metadata": {},
   "source": [
    "Replacing a set of RGB values can be done as in the following. We want to give Commander Keen another t-shirt color. So by querying the color at the central pixel `im_data[32,24,:]`, we see that it is `[252, 84, 252]`. Consequently, we find all pixels with these values and assign a new value to those positions."
   ]
  },
  {
   "cell_type": "code",
   "execution_count": null,
   "metadata": {},
   "outputs": [],
   "source": [
    "im_data_orig = np.copy(im_data)"
   ]
  },
  {
   "cell_type": "code",
   "execution_count": null,
   "metadata": {},
   "outputs": [],
   "source": [
    "%matplotlib notebook\n",
    "print(im_data.shape)\n",
    "print(im_data_orig[32,24,:]) # pink color from 32px down - 24px right in commander_keen img\n",
    "\n",
    "mask = (im_data_orig[:,:,0] == 252) & (im_data_orig[:,:,1] == 84) & (im_data_orig[:,:,2] == 252)\n",
    "im_data[mask] = np.array([250, 230, 0]) # replace the pixels chosen by the mask with [250,230,0]=yellow\n",
    "plt.figure()\n",
    "plt.subplot(1, 2, 2) # 1=row, 2=column, 2=index (image will have one row with 2 columns AND this plot will be in the second column/index)\n",
    "plt.title('Original')\n",
    "plt.imshow(im_data_orig)\n",
    "plt.subplot(1, 2, 1)\n",
    "plt.title('Modified')\n",
    "plt.imshow(im_data)\n",
    "plt.show()"
   ]
  },
  {
   "cell_type": "markdown",
   "metadata": {},
   "source": [
    "As you saw above, each channel for the RGB values is represented with the help of a two-dimensional array. We can split them up to inspect the respective intensities."
   ]
  },
  {
   "cell_type": "code",
   "execution_count": null,
   "metadata": {},
   "outputs": [],
   "source": [
    "%matplotlib inline\n",
    "red_channel = im_data_orig[:,:,0] # red=0, green=1, blue=2\n",
    "print('upper left corner is all white and red,green,blue==255:',red_channel[0,0],'\\n somewhere in the center:',red_channel[50,24])\n",
    "plt.imshow(red_channel, cmap=plt.cm.Greys) # low value becomes light and close to 255 becomes black."
   ]
  },
  {
   "cell_type": "code",
   "execution_count": null,
   "metadata": {},
   "outputs": [],
   "source": [
    "channels = [('Red', 0), ('Green', 1), ('Blue', 2)]\n",
    "plt.figure()\n",
    "for channel, channel_idx in channels:\n",
    "    plt.subplot(1, 3, channel_idx+1)\n",
    "    plt.title('{}'.format(channel))\n",
    "    imarray = im_data_orig[:,:,channel_idx]\n",
    "    plt.imshow(imarray, cmap=plt.cm.Greys)"
   ]
  }
 ],
 "metadata": {
  "kernelspec": {
   "display_name": "Python 3",
   "language": "python",
   "name": "python3"
  },
  "language_info": {
   "codemirror_mode": {
    "name": "ipython",
    "version": 3
   },
   "file_extension": ".py",
   "mimetype": "text/x-python",
   "name": "python",
   "nbconvert_exporter": "python",
   "pygments_lexer": "ipython3",
   "version": "3.7.6"
  },
  "varInspector": {
   "cols": {
    "lenName": 16,
    "lenType": 16,
    "lenVar": 40
   },
   "kernels_config": {
    "python": {
     "delete_cmd_postfix": "",
     "delete_cmd_prefix": "del ",
     "library": "var_list.py",
     "varRefreshCmd": "print(var_dic_list())"
    },
    "r": {
     "delete_cmd_postfix": ") ",
     "delete_cmd_prefix": "rm(",
     "library": "var_list.r",
     "varRefreshCmd": "cat(var_dic_list()) "
    }
   },
   "types_to_exclude": [
    "module",
    "function",
    "builtin_function_or_method",
    "instance",
    "_Feature"
   ],
   "window_display": false
  }
 },
 "nbformat": 4,
 "nbformat_minor": 2
}
